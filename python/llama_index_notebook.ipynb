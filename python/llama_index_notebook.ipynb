{
 "cells": [
  {
   "attachments": {},
   "cell_type": "markdown",
   "metadata": {},
   "source": [
    "### Download Dropbox data to use for demonstration"
   ]
  },
  {
   "cell_type": "code",
   "execution_count": 1,
   "metadata": {},
   "outputs": [
    {
     "name": "stdout",
     "output_type": "stream",
     "text": [
      "Requirement already satisfied: llama-index in /Users/lnshuti/anaconda3/envs/chatty-app/lib/python3.10/site-packages (0.6.9)\n",
      "Requirement already satisfied: dataclasses-json in /Users/lnshuti/anaconda3/envs/chatty-app/lib/python3.10/site-packages (from llama-index) (0.5.7)\n",
      "Requirement already satisfied: langchain>=0.0.154 in /Users/lnshuti/anaconda3/envs/chatty-app/lib/python3.10/site-packages (from llama-index) (0.0.176)\n",
      "Requirement already satisfied: numpy in /Users/lnshuti/anaconda3/envs/chatty-app/lib/python3.10/site-packages (from llama-index) (1.24.3)\n",
      "Requirement already satisfied: tenacity<9.0.0,>=8.2.0 in /Users/lnshuti/anaconda3/envs/chatty-app/lib/python3.10/site-packages (from llama-index) (8.2.2)\n",
      "Requirement already satisfied: openai>=0.26.4 in /Users/lnshuti/anaconda3/envs/chatty-app/lib/python3.10/site-packages (from llama-index) (0.27.7)\n",
      "Requirement already satisfied: pandas in /Users/lnshuti/anaconda3/envs/chatty-app/lib/python3.10/site-packages (from llama-index) (2.0.1)\n",
      "Requirement already satisfied: requests<2.30.0 in /Users/lnshuti/anaconda3/envs/chatty-app/lib/python3.10/site-packages (from llama-index) (2.29.0)\n",
      "Requirement already satisfied: fsspec>=2023.5.0 in /Users/lnshuti/anaconda3/envs/chatty-app/lib/python3.10/site-packages (from llama-index) (2023.5.0)\n",
      "Requirement already satisfied: tiktoken in /Users/lnshuti/anaconda3/envs/chatty-app/lib/python3.10/site-packages (from llama-index) (0.4.0)\n",
      "Requirement already satisfied: PyYAML>=5.4.1 in /Users/lnshuti/anaconda3/envs/chatty-app/lib/python3.10/site-packages (from langchain>=0.0.154->llama-index) (6.0)\n",
      "Requirement already satisfied: SQLAlchemy<3,>=1.4 in /Users/lnshuti/anaconda3/envs/chatty-app/lib/python3.10/site-packages (from langchain>=0.0.154->llama-index) (2.0.15)\n",
      "Requirement already satisfied: aiohttp<4.0.0,>=3.8.3 in /Users/lnshuti/anaconda3/envs/chatty-app/lib/python3.10/site-packages (from langchain>=0.0.154->llama-index) (3.8.4)\n",
      "Requirement already satisfied: async-timeout<5.0.0,>=4.0.0 in /Users/lnshuti/anaconda3/envs/chatty-app/lib/python3.10/site-packages (from langchain>=0.0.154->llama-index) (4.0.2)\n",
      "Requirement already satisfied: numexpr<3.0.0,>=2.8.4 in /Users/lnshuti/anaconda3/envs/chatty-app/lib/python3.10/site-packages (from langchain>=0.0.154->llama-index) (2.8.4)\n",
      "Requirement already satisfied: openapi-schema-pydantic<2.0,>=1.2 in /Users/lnshuti/anaconda3/envs/chatty-app/lib/python3.10/site-packages (from langchain>=0.0.154->llama-index) (1.2.4)\n",
      "Requirement already satisfied: pydantic<2,>=1 in /Users/lnshuti/anaconda3/envs/chatty-app/lib/python3.10/site-packages (from langchain>=0.0.154->llama-index) (1.10.7)\n",
      "Requirement already satisfied: marshmallow<4.0.0,>=3.3.0 in /Users/lnshuti/anaconda3/envs/chatty-app/lib/python3.10/site-packages (from dataclasses-json->llama-index) (3.19.0)\n",
      "Requirement already satisfied: marshmallow-enum<2.0.0,>=1.5.1 in /Users/lnshuti/anaconda3/envs/chatty-app/lib/python3.10/site-packages (from dataclasses-json->llama-index) (1.5.1)\n",
      "Requirement already satisfied: typing-inspect>=0.4.0 in /Users/lnshuti/anaconda3/envs/chatty-app/lib/python3.10/site-packages (from dataclasses-json->llama-index) (0.8.0)\n",
      "Requirement already satisfied: tqdm in /Users/lnshuti/anaconda3/envs/chatty-app/lib/python3.10/site-packages (from openai>=0.26.4->llama-index) (4.65.0)\n",
      "Requirement already satisfied: charset-normalizer<4,>=2 in /Users/lnshuti/anaconda3/envs/chatty-app/lib/python3.10/site-packages (from requests<2.30.0->llama-index) (3.1.0)\n",
      "Requirement already satisfied: idna<4,>=2.5 in /Users/lnshuti/anaconda3/envs/chatty-app/lib/python3.10/site-packages (from requests<2.30.0->llama-index) (3.4)\n",
      "Requirement already satisfied: urllib3<1.27,>=1.21.1 in /Users/lnshuti/anaconda3/envs/chatty-app/lib/python3.10/site-packages (from requests<2.30.0->llama-index) (1.26.15)\n",
      "Requirement already satisfied: certifi>=2017.4.17 in /Users/lnshuti/anaconda3/envs/chatty-app/lib/python3.10/site-packages (from requests<2.30.0->llama-index) (2023.5.7)\n",
      "Requirement already satisfied: python-dateutil>=2.8.2 in /Users/lnshuti/anaconda3/envs/chatty-app/lib/python3.10/site-packages (from pandas->llama-index) (2.8.2)\n",
      "Requirement already satisfied: pytz>=2020.1 in /Users/lnshuti/anaconda3/envs/chatty-app/lib/python3.10/site-packages (from pandas->llama-index) (2023.3)\n",
      "Requirement already satisfied: tzdata>=2022.1 in /Users/lnshuti/anaconda3/envs/chatty-app/lib/python3.10/site-packages (from pandas->llama-index) (2023.3)\n",
      "Requirement already satisfied: regex>=2022.1.18 in /Users/lnshuti/anaconda3/envs/chatty-app/lib/python3.10/site-packages (from tiktoken->llama-index) (2023.5.5)\n",
      "Requirement already satisfied: attrs>=17.3.0 in /Users/lnshuti/anaconda3/envs/chatty-app/lib/python3.10/site-packages (from aiohttp<4.0.0,>=3.8.3->langchain>=0.0.154->llama-index) (23.1.0)\n",
      "Requirement already satisfied: multidict<7.0,>=4.5 in /Users/lnshuti/anaconda3/envs/chatty-app/lib/python3.10/site-packages (from aiohttp<4.0.0,>=3.8.3->langchain>=0.0.154->llama-index) (6.0.4)\n",
      "Requirement already satisfied: yarl<2.0,>=1.0 in /Users/lnshuti/anaconda3/envs/chatty-app/lib/python3.10/site-packages (from aiohttp<4.0.0,>=3.8.3->langchain>=0.0.154->llama-index) (1.9.2)\n",
      "Requirement already satisfied: frozenlist>=1.1.1 in /Users/lnshuti/anaconda3/envs/chatty-app/lib/python3.10/site-packages (from aiohttp<4.0.0,>=3.8.3->langchain>=0.0.154->llama-index) (1.3.3)\n",
      "Requirement already satisfied: aiosignal>=1.1.2 in /Users/lnshuti/anaconda3/envs/chatty-app/lib/python3.10/site-packages (from aiohttp<4.0.0,>=3.8.3->langchain>=0.0.154->llama-index) (1.3.1)\n",
      "Requirement already satisfied: packaging>=17.0 in /Users/lnshuti/anaconda3/envs/chatty-app/lib/python3.10/site-packages (from marshmallow<4.0.0,>=3.3.0->dataclasses-json->llama-index) (23.1)\n",
      "Requirement already satisfied: typing-extensions>=4.2.0 in /Users/lnshuti/anaconda3/envs/chatty-app/lib/python3.10/site-packages (from pydantic<2,>=1->langchain>=0.0.154->llama-index) (4.5.0)\n",
      "Requirement already satisfied: six>=1.5 in /Users/lnshuti/anaconda3/envs/chatty-app/lib/python3.10/site-packages (from python-dateutil>=2.8.2->pandas->llama-index) (1.16.0)\n",
      "Requirement already satisfied: mypy-extensions>=0.3.0 in /Users/lnshuti/anaconda3/envs/chatty-app/lib/python3.10/site-packages (from typing-inspect>=0.4.0->dataclasses-json->llama-index) (1.0.0)\n",
      "Requirement already satisfied: azure-core in /Users/lnshuti/anaconda3/envs/chatty-app/lib/python3.10/site-packages (1.26.4)\n",
      "Requirement already satisfied: requests>=2.18.4 in /Users/lnshuti/anaconda3/envs/chatty-app/lib/python3.10/site-packages (from azure-core) (2.29.0)\n",
      "Requirement already satisfied: six>=1.11.0 in /Users/lnshuti/anaconda3/envs/chatty-app/lib/python3.10/site-packages (from azure-core) (1.16.0)\n",
      "Requirement already satisfied: typing-extensions>=4.3.0 in /Users/lnshuti/anaconda3/envs/chatty-app/lib/python3.10/site-packages (from azure-core) (4.5.0)\n",
      "Requirement already satisfied: charset-normalizer<4,>=2 in /Users/lnshuti/anaconda3/envs/chatty-app/lib/python3.10/site-packages (from requests>=2.18.4->azure-core) (3.1.0)\n",
      "Requirement already satisfied: idna<4,>=2.5 in /Users/lnshuti/anaconda3/envs/chatty-app/lib/python3.10/site-packages (from requests>=2.18.4->azure-core) (3.4)\n",
      "Requirement already satisfied: urllib3<1.27,>=1.21.1 in /Users/lnshuti/anaconda3/envs/chatty-app/lib/python3.10/site-packages (from requests>=2.18.4->azure-core) (1.26.15)\n",
      "Requirement already satisfied: certifi>=2017.4.17 in /Users/lnshuti/anaconda3/envs/chatty-app/lib/python3.10/site-packages (from requests>=2.18.4->azure-core) (2023.5.7)\n",
      "Requirement already satisfied: pdf2image in /Users/lnshuti/anaconda3/envs/chatty-app/lib/python3.10/site-packages (1.16.3)\n",
      "Requirement already satisfied: pillow in /Users/lnshuti/anaconda3/envs/chatty-app/lib/python3.10/site-packages (from pdf2image) (9.5.0)\n"
     ]
    }
   ],
   "source": [
    "!pip install llama-index\n",
    "!pip install azure-core\n",
    "!pip install pdf2image"
   ]
  },
  {
   "cell_type": "code",
   "execution_count": 2,
   "metadata": {},
   "outputs": [],
   "source": [
    "# set text wrapping\n",
    "from IPython.display import HTML, display\n",
    "\n",
    "def set_css():\n",
    "  display(HTML('''\n",
    "  <style>\n",
    "    pre {\n",
    "        white-space: pre-wrap;\n",
    "    }\n",
    "  </style>\n",
    "  '''))\n",
    "get_ipython().events.register('pre_run_cell', set_css)"
   ]
  },
  {
   "cell_type": "code",
   "execution_count": null,
   "metadata": {},
   "outputs": [],
   "source": []
  }
 ],
 "metadata": {
  "kernelspec": {
   "display_name": "chatty-app",
   "language": "python",
   "name": "python3"
  },
  "language_info": {
   "codemirror_mode": {
    "name": "ipython",
    "version": 3
   },
   "file_extension": ".py",
   "mimetype": "text/x-python",
   "name": "python",
   "nbconvert_exporter": "python",
   "pygments_lexer": "ipython3",
   "version": "3.10.11"
  },
  "orig_nbformat": 4
 },
 "nbformat": 4,
 "nbformat_minor": 2
}
